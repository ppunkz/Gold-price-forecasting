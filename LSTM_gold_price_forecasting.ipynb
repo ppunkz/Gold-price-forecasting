{
  "nbformat": 4,
  "nbformat_minor": 0,
  "metadata": {
    "colab": {
      "name": "LSTM gold price forecasting.ipynb",
      "provenance": [],
      "collapsed_sections": [],
      "authorship_tag": "ABX9TyP4AKwdr6H9eNtuRj4niItF",
      "include_colab_link": true
    },
    "kernelspec": {
      "name": "python3",
      "display_name": "Python 3"
    }
  },
  "cells": [
    {
      "cell_type": "markdown",
      "metadata": {
        "id": "view-in-github",
        "colab_type": "text"
      },
      "source": [
        "<a href=\"https://colab.research.google.com/github/ppunkz/gold-price-forecasting/blob/master/LSTM_gold_price_forecasting.ipynb\" target=\"_parent\"><img src=\"https://colab.research.google.com/assets/colab-badge.svg\" alt=\"Open In Colab\"/></a>"
      ]
    },
    {
      "cell_type": "code",
      "metadata": {
        "id": "ysWi1MjMwMl5",
        "colab_type": "code",
        "colab": {
          "base_uri": "https://localhost:8080/",
          "height": 70
        },
        "outputId": "b421bd18-e8d9-4a0b-9b1e-a0794b5bd3e5"
      },
      "source": [
        "import tensorflow as tf\n",
        "import numpy as np\n",
        "import matplotlib.pyplot as plt\n",
        "import pandas as pd\n",
        "from statsmodels.tools.eval_measures import rmse\n",
        "from sklearn.preprocessing import MinMaxScaler\n",
        "from keras.preprocessing.sequence import TimeseriesGenerator\n",
        "from keras.models import Sequential\n",
        "from keras.layers import Bidirectional\n",
        "from keras.layers import Dense\n",
        "from keras.layers import LSTM\n",
        "from keras.layers import Dropout\n",
        "from sklearn.metrics import mean_absolute_error, mean_squared_error\n",
        "from math import sqrt\n",
        "%matplotlib inline\n",
        "%config InlineBackend.figure_format='retina'"
      ],
      "execution_count": 1,
      "outputs": [
        {
          "output_type": "stream",
          "text": [
            "/usr/local/lib/python3.6/dist-packages/statsmodels/tools/_testing.py:19: FutureWarning: pandas.util.testing is deprecated. Use the functions in the public API at pandas.testing instead.\n",
            "  import pandas.util.testing as tm\n"
          ],
          "name": "stderr"
        }
      ]
    },
    {
      "cell_type": "code",
      "metadata": {
        "id": "NWzk6PiRjyqw",
        "colab_type": "code",
        "colab": {
          "resources": {
            "http://localhost:8080/nbextensions/google.colab/files.js": {
              "data": "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",
              "ok": true,
              "headers": [
                [
                  "content-type",
                  "application/javascript"
                ]
              ],
              "status": 200,
              "status_text": ""
            }
          },
          "base_uri": "https://localhost:8080/",
          "height": 73
        },
        "outputId": "93a2b239-efdf-4ced-8c7d-db3f13367dd6"
      },
      "source": [
        "from google.colab import files\n",
        "uploaded = files.upload()"
      ],
      "execution_count": 3,
      "outputs": [
        {
          "output_type": "display_data",
          "data": {
            "text/html": [
              "\n",
              "     <input type=\"file\" id=\"files-2b513f78-0219-4517-a453-45ee24172270\" name=\"files[]\" multiple disabled\n",
              "        style=\"border:none\" />\n",
              "     <output id=\"result-2b513f78-0219-4517-a453-45ee24172270\">\n",
              "      Upload widget is only available when the cell has been executed in the\n",
              "      current browser session. Please rerun this cell to enable.\n",
              "      </output>\n",
              "      <script src=\"/nbextensions/google.colab/files.js\"></script> "
            ],
            "text/plain": [
              "<IPython.core.display.HTML object>"
            ]
          },
          "metadata": {
            "tags": []
          }
        },
        {
          "output_type": "stream",
          "text": [
            "Saving goldprice.csv to goldprice.csv\n"
          ],
          "name": "stdout"
        }
      ]
    },
    {
      "cell_type": "code",
      "metadata": {
        "id": "6hjLDfu3C5E5",
        "colab_type": "code",
        "colab": {}
      },
      "source": [
        "Col = ['Date','Price']\n",
        "df = pd.read_csv('goldprice.csv', parse_dates=['Date'], index_col='Date', usecols=Col)"
      ],
      "execution_count": 4,
      "outputs": []
    },
    {
      "cell_type": "code",
      "metadata": {
        "id": "jrjrKCgORHM3",
        "colab_type": "code",
        "colab": {}
      },
      "source": [
        "df = df.sort_values('Date')\n",
        "df = df.dropna()"
      ],
      "execution_count": 5,
      "outputs": []
    },
    {
      "cell_type": "code",
      "metadata": {
        "id": "P_LIaklt8hsY",
        "colab_type": "code",
        "colab": {
          "base_uri": "https://localhost:8080/",
          "height": 284
        },
        "outputId": "a120e35c-d21f-497d-ff35-e5f84a3eb143"
      },
      "source": [
        "df.describe()"
      ],
      "execution_count": 6,
      "outputs": [
        {
          "output_type": "execute_result",
          "data": {
            "text/html": [
              "<div>\n",
              "<style scoped>\n",
              "    .dataframe tbody tr th:only-of-type {\n",
              "        vertical-align: middle;\n",
              "    }\n",
              "\n",
              "    .dataframe tbody tr th {\n",
              "        vertical-align: top;\n",
              "    }\n",
              "\n",
              "    .dataframe thead th {\n",
              "        text-align: right;\n",
              "    }\n",
              "</style>\n",
              "<table border=\"1\" class=\"dataframe\">\n",
              "  <thead>\n",
              "    <tr style=\"text-align: right;\">\n",
              "      <th></th>\n",
              "      <th>Price</th>\n",
              "    </tr>\n",
              "  </thead>\n",
              "  <tbody>\n",
              "    <tr>\n",
              "      <th>count</th>\n",
              "      <td>4957.000000</td>\n",
              "    </tr>\n",
              "    <tr>\n",
              "      <th>mean</th>\n",
              "      <td>976.419024</td>\n",
              "    </tr>\n",
              "    <tr>\n",
              "      <th>std</th>\n",
              "      <td>463.623172</td>\n",
              "    </tr>\n",
              "    <tr>\n",
              "      <th>min</th>\n",
              "      <td>255.100006</td>\n",
              "    </tr>\n",
              "    <tr>\n",
              "      <th>25%</th>\n",
              "      <td>446.700012</td>\n",
              "    </tr>\n",
              "    <tr>\n",
              "      <th>50%</th>\n",
              "      <td>1135.199951</td>\n",
              "    </tr>\n",
              "    <tr>\n",
              "      <th>75%</th>\n",
              "      <td>1312.400024</td>\n",
              "    </tr>\n",
              "    <tr>\n",
              "      <th>max</th>\n",
              "      <td>1888.699951</td>\n",
              "    </tr>\n",
              "  </tbody>\n",
              "</table>\n",
              "</div>"
            ],
            "text/plain": [
              "             Price\n",
              "count  4957.000000\n",
              "mean    976.419024\n",
              "std     463.623172\n",
              "min     255.100006\n",
              "25%     446.700012\n",
              "50%    1135.199951\n",
              "75%    1312.400024\n",
              "max    1888.699951"
            ]
          },
          "metadata": {
            "tags": []
          },
          "execution_count": 6
        }
      ]
    },
    {
      "cell_type": "code",
      "metadata": {
        "id": "hbrnNUvzUBSd",
        "colab_type": "code",
        "colab": {}
      },
      "source": [
        "from sklearn.model_selection import train_test_split\n",
        "train, test = train_test_split(df, train_size=.9, shuffle=False)"
      ],
      "execution_count": 8,
      "outputs": []
    },
    {
      "cell_type": "code",
      "metadata": {
        "id": "dlHmxbkU7BIM",
        "colab_type": "code",
        "colab": {
          "base_uri": "https://localhost:8080/",
          "height": 265
        },
        "outputId": "711fd4f3-62da-42b1-d3cb-320d64eb52a0"
      },
      "source": [
        "#plt.figure(figsize = (20,5))\n",
        "plt.plot(train, label = 'train')\n",
        "plt.plot(test, label = 'test')\n",
        "plt.legend()\n",
        "plt.show()"
      ],
      "execution_count": 9,
      "outputs": [
        {
          "output_type": "display_data",
          "data": {
            "image/png": "[encoded data removed]",
            "text/plain": [
              "<Figure size 432x288 with 1 Axes>"
            ]
          },
          "metadata": {
            "tags": [],
            "image/png": {
              "width": 381,
              "height": 248
            },
            "needs_background": "light"
          }
        }
      ]
    },
    {
      "cell_type": "code",
      "metadata": {
        "id": "xK_8kLrBS5pX",
        "colab_type": "code",
        "colab": {
          "base_uri": "https://localhost:8080/",
          "height": 50
        },
        "outputId": "356e20e8-2720-4d93-dfea-ef9b51ae5bfd"
      },
      "source": [
        "print(train.shape)\n",
        "print(test.shape)"
      ],
      "execution_count": 10,
      "outputs": [
        {
          "output_type": "stream",
          "text": [
            "(4461, 1)\n",
            "(496, 1)\n"
          ],
          "name": "stdout"
        }
      ]
    },
    {
      "cell_type": "code",
      "metadata": {
        "id": "otwONAhPUoGH",
        "colab_type": "code",
        "colab": {}
      },
      "source": [
        "train_max = train.max()\n",
        "train_min = train.min()\n",
        "\n",
        "# Normalize the dataframes\n",
        "train = (train - train_min)/(train_max - train_min)\n",
        "test = (test - train_min)/(train_max - train_min)"
      ],
      "execution_count": 11,
      "outputs": []
    },
    {
      "cell_type": "code",
      "metadata": {
        "id": "QORvwf8wUckM",
        "colab_type": "code",
        "colab": {}
      },
      "source": [
        "def create_dataset(X, y, time_steps=1):\n",
        "    Xs, ys = [], []\n",
        "    for i in range(len(X) - time_steps):\n",
        "        v = X.iloc[i:(i + time_steps)].values\n",
        "        Xs.append(v)        \n",
        "        ys.append(y.iloc[i + time_steps])\n",
        "    return np.array(Xs), np.array(ys)\n",
        "\n",
        "\n",
        "time_steps = 3\n",
        "\n",
        "X_train, y_train = create_dataset(train.Price, train.Price, time_steps)\n",
        "X_test, y_test = create_dataset(test.Price, test.Price, time_steps)"
      ],
      "execution_count": 12,
      "outputs": []
    },
    {
      "cell_type": "code",
      "metadata": {
        "id": "TbZh5Ij0pW9S",
        "colab_type": "code",
        "colab": {}
      },
      "source": [
        "X_train = X_train.reshape((X_train.shape[0], X_train.shape[1], 1))\n",
        "X_test = X_test.reshape((X_test.shape[0], X_test.shape[1], 1))"
      ],
      "execution_count": 13,
      "outputs": []
    },
    {
      "cell_type": "code",
      "metadata": {
        "id": "MN-e-9WqcGxt",
        "colab_type": "code",
        "colab": {
          "base_uri": "https://localhost:8080/",
          "height": 50
        },
        "outputId": "0971f956-54e3-49f8-bf3d-e35227bf8273"
      },
      "source": [
        "print(X_train.shape, y_train.shape)\n",
        "print(X_test.shape, y_test.shape)"
      ],
      "execution_count": 14,
      "outputs": [
        {
          "output_type": "stream",
          "text": [
            "(4458, 3, 1) (4458,)\n",
            "(493, 3, 1) (493,)\n"
          ],
          "name": "stdout"
        }
      ]
    },
    {
      "cell_type": "code",
      "metadata": {
        "id": "MQVtGOjwRS5q",
        "colab_type": "code",
        "colab": {
          "base_uri": "https://localhost:8080/",
          "height": 286
        },
        "outputId": "ea7ee8e2-eaa7-47c9-fa89-e3b42413ae84"
      },
      "source": [
        "tf.keras.backend.clear_session()\n",
        "tf.random.set_seed(51)\n",
        "np.random.seed(51)\n",
        "model = tf.keras.Sequential()\n",
        "model.add(tf.keras.layers.LSTM(100, return_sequences =False, input_shape = (X_train.shape[1], X_train.shape[2])))\n",
        "model.add(tf.keras.layers.Dropout(0.5))\n",
        "#model.add(tf.keras.layers.LSTM(400, return_sequences= True))\n",
        "#model.add(Dropout(0.2))\n",
        "#model.add(tf.keras.layers.LSTM(400, return_sequences= True))\n",
        "#model.add(Dropout(0.2))\n",
        "#model.add(tf.keras.layers.LSTM(400, return_sequences= True))\n",
        "#model.add(Dropout(0.2))\n",
        "#model.add(tf.keras.layers.LSTM(600))\n",
        "#model.add(tf.keras.layers.Dropout(0.5))\n",
        "model.add(tf.keras.layers.Dense(units=20, activation='relu'))\n",
        "model.add(tf.keras.layers.Dense(1, activation ='sigmoid'))\n",
        "model.compile(loss='mae',optimizer='adam')\n",
        "model.summary()"
      ],
      "execution_count": 15,
      "outputs": [
        {
          "output_type": "stream",
          "text": [
            "Model: \"sequential\"\n",
            "_________________________________________________________________\n",
            "Layer (type)                 Output Shape              Param #   \n",
            "=================================================================\n",
            "lstm (LSTM)                  (None, 100)               40800     \n",
            "_________________________________________________________________\n",
            "dropout (Dropout)            (None, 100)               0         \n",
            "_________________________________________________________________\n",
            "dense (Dense)                (None, 20)                2020      \n",
            "_________________________________________________________________\n",
            "dense_1 (Dense)              (None, 1)                 21        \n",
            "=================================================================\n",
            "Total params: 42,841\n",
            "Trainable params: 42,841\n",
            "Non-trainable params: 0\n",
            "_________________________________________________________________\n"
          ],
          "name": "stdout"
        }
      ]
    },
    {
      "cell_type": "code",
      "metadata": {
        "id": "wl5o5GBoV1ev",
        "colab_type": "code",
        "colab": {
          "base_uri": "https://localhost:8080/",
          "height": 1000
        },
        "outputId": "b21ef51e-0dc1-4a53-9b9e-26613468a5c4"
      },
      "source": [
        "history_lstm = model.fit(X_train, y_train, epochs=300, batch_size=32, validation_data = (X_test, y_test), shuffle=False)"
      ],
      "execution_count": 16,
      "outputs": [
        {
          "output_type": "stream",
          "text": [
            "Epoch 1/300\n",
            "140/140 [==============================] - 1s 6ms/step - loss: 0.1931 - val_loss: 0.1032\n",
            "Epoch 2/300\n",
            "140/140 [==============================] - 1s 4ms/step - loss: 0.1536 - val_loss: 0.0891\n",
            "Epoch 3/300\n",
            "140/140 [==============================] - 1s 4ms/step - loss: 0.0830 - val_loss: 0.0597\n",
            "Epoch 4/300\n",
            "140/140 [==============================] - 1s 4ms/step - loss: 0.0602 - val_loss: 0.0514\n",
            "Epoch 5/300\n",
            "140/140 [==============================] - 1s 4ms/step - loss: 0.0492 - val_loss: 0.0452\n",
            "Epoch 6/300\n",
            "140/140 [==============================] - 1s 4ms/step - loss: 0.0500 - val_loss: 0.0447\n",
            "Epoch 7/300\n",
            "140/140 [==============================] - 1s 4ms/step - loss: 0.0490 - val_loss: 0.0426\n",
            "Epoch 8/300\n",
            "140/140 [==============================] - 1s 4ms/step - loss: 0.0494 - val_loss: 0.0396\n",
            "Epoch 9/300\n",
            "140/140 [==============================] - 1s 4ms/step - loss: 0.0465 - val_loss: 0.0395\n",
            "Epoch 10/300\n",
            "140/140 [==============================] - 1s 4ms/step - loss: 0.0473 - val_loss: 0.0389\n",
            "Epoch 11/300\n",
            "140/140 [==============================] - 0s 4ms/step - loss: 0.0468 - val_loss: 0.0383\n",
            "Epoch 12/300\n",
            "140/140 [==============================] - 1s 4ms/step - loss: 0.0463 - val_loss: 0.0375\n",
            "Epoch 13/300\n",
            "140/140 [==============================] - 0s 4ms/step - loss: 0.0467 - val_loss: 0.0392\n",
            "Epoch 14/300\n",
            "140/140 [==============================] - 1s 4ms/step - loss: 0.0456 - val_loss: 0.0373\n",
            "Epoch 15/300\n",
            "140/140 [==============================] - 1s 4ms/step - loss: 0.0448 - val_loss: 0.0374\n",
            "Epoch 16/300\n",
            "140/140 [==============================] - 1s 4ms/step - loss: 0.0447 - val_loss: 0.0373\n",
            "Epoch 17/300\n",
            "140/140 [==============================] - 1s 4ms/step - loss: 0.0448 - val_loss: 0.0389\n",
            "Epoch 18/300\n",
            "140/140 [==============================] - 1s 4ms/step - loss: 0.0445 - val_loss: 0.0378\n",
            "Epoch 19/300\n",
            "140/140 [==============================] - 1s 4ms/step - loss: 0.0460 - val_loss: 0.0362\n",
            "Epoch 20/300\n",
            "140/140 [==============================] - 1s 4ms/step - loss: 0.0445 - val_loss: 0.0356\n",
            "Epoch 21/300\n",
            "140/140 [==============================] - 1s 4ms/step - loss: 0.0453 - val_loss: 0.0354\n",
            "Epoch 22/300\n",
            "140/140 [==============================] - 1s 4ms/step - loss: 0.0439 - val_loss: 0.0361\n",
            "Epoch 23/300\n",
            "140/140 [==============================] - 1s 4ms/step - loss: 0.0447 - val_loss: 0.0366\n",
            "Epoch 24/300\n",
            "140/140 [==============================] - 1s 4ms/step - loss: 0.0441 - val_loss: 0.0373\n",
            "Epoch 25/300\n",
            "140/140 [==============================] - 1s 4ms/step - loss: 0.0447 - val_loss: 0.0369\n",
            "Epoch 26/300\n",
            "140/140 [==============================] - 1s 4ms/step - loss: 0.0443 - val_loss: 0.0355\n",
            "Epoch 27/300\n",
            "140/140 [==============================] - 0s 4ms/step - loss: 0.0441 - val_loss: 0.0352\n",
            "Epoch 28/300\n",
            "140/140 [==============================] - 1s 4ms/step - loss: 0.0432 - val_loss: 0.0351\n",
            "Epoch 29/300\n",
            "140/140 [==============================] - 1s 4ms/step - loss: 0.0442 - val_loss: 0.0354\n",
            "Epoch 30/300\n",
            "140/140 [==============================] - 1s 4ms/step - loss: 0.0429 - val_loss: 0.0350\n",
            "Epoch 31/300\n",
            "140/140 [==============================] - 0s 4ms/step - loss: 0.0438 - val_loss: 0.0346\n",
            "Epoch 32/300\n",
            "140/140 [==============================] - 1s 4ms/step - loss: 0.0439 - val_loss: 0.0344\n",
            "Epoch 33/300\n",
            "140/140 [==============================] - 0s 4ms/step - loss: 0.0432 - val_loss: 0.0352\n",
            "Epoch 34/300\n",
            "140/140 [==============================] - 1s 4ms/step - loss: 0.0439 - val_loss: 0.0339\n",
            "Epoch 35/300\n",
            "140/140 [==============================] - 0s 4ms/step - loss: 0.0436 - val_loss: 0.0339\n",
            "Epoch 36/300\n",
            "140/140 [==============================] - 1s 4ms/step - loss: 0.0429 - val_loss: 0.0335\n",
            "Epoch 37/300\n",
            "140/140 [==============================] - 1s 4ms/step - loss: 0.0433 - val_loss: 0.0342\n",
            "Epoch 38/300\n",
            "140/140 [==============================] - 1s 4ms/step - loss: 0.0435 - val_loss: 0.0343\n",
            "Epoch 39/300\n",
            "140/140 [==============================] - 0s 4ms/step - loss: 0.0433 - val_loss: 0.0333\n",
            "Epoch 40/300\n",
            "140/140 [==============================] - 1s 4ms/step - loss: 0.0433 - val_loss: 0.0330\n",
            "Epoch 41/300\n",
            "140/140 [==============================] - 0s 4ms/step - loss: 0.0422 - val_loss: 0.0346\n",
            "Epoch 42/300\n",
            "140/140 [==============================] - 1s 4ms/step - loss: 0.0452 - val_loss: 0.0318\n",
            "Epoch 43/300\n",
            "140/140 [==============================] - 1s 4ms/step - loss: 0.0420 - val_loss: 0.0326\n",
            "Epoch 44/300\n",
            "140/140 [==============================] - 1s 4ms/step - loss: 0.0433 - val_loss: 0.0325\n",
            "Epoch 45/300\n",
            "140/140 [==============================] - 1s 4ms/step - loss: 0.0420 - val_loss: 0.0330\n",
            "Epoch 46/300\n",
            "140/140 [==============================] - 1s 4ms/step - loss: 0.0433 - val_loss: 0.0335\n",
            "Epoch 47/300\n",
            "140/140 [==============================] - 1s 4ms/step - loss: 0.0423 - val_loss: 0.0303\n",
            "Epoch 48/300\n",
            "140/140 [==============================] - 1s 4ms/step - loss: 0.0425 - val_loss: 0.0315\n",
            "Epoch 49/300\n",
            "140/140 [==============================] - 1s 4ms/step - loss: 0.0424 - val_loss: 0.0301\n",
            "Epoch 50/300\n",
            "140/140 [==============================] - 1s 4ms/step - loss: 0.0418 - val_loss: 0.0297\n",
            "Epoch 51/300\n",
            "140/140 [==============================] - 1s 4ms/step - loss: 0.0408 - val_loss: 0.0300\n",
            "Epoch 52/300\n",
            "140/140 [==============================] - 1s 4ms/step - loss: 0.0437 - val_loss: 0.0294\n",
            "Epoch 53/300\n",
            "140/140 [==============================] - 1s 4ms/step - loss: 0.0401 - val_loss: 0.0310\n",
            "Epoch 54/300\n",
            "140/140 [==============================] - 1s 4ms/step - loss: 0.0411 - val_loss: 0.0292\n",
            "Epoch 55/300\n",
            "140/140 [==============================] - 1s 4ms/step - loss: 0.0391 - val_loss: 0.0308\n",
            "Epoch 56/300\n",
            "140/140 [==============================] - 0s 4ms/step - loss: 0.0409 - val_loss: 0.0273\n",
            "Epoch 57/300\n",
            "140/140 [==============================] - 1s 4ms/step - loss: 0.0403 - val_loss: 0.0297\n",
            "Epoch 58/300\n",
            "140/140 [==============================] - 1s 4ms/step - loss: 0.0393 - val_loss: 0.0291\n",
            "Epoch 59/300\n",
            "140/140 [==============================] - 1s 4ms/step - loss: 0.0392 - val_loss: 0.0294\n",
            "Epoch 60/300\n",
            "140/140 [==============================] - 1s 4ms/step - loss: 0.0377 - val_loss: 0.0281\n",
            "Epoch 61/300\n",
            "140/140 [==============================] - 1s 4ms/step - loss: 0.0367 - val_loss: 0.0276\n",
            "Epoch 62/300\n",
            "140/140 [==============================] - 1s 4ms/step - loss: 0.0352 - val_loss: 0.0286\n",
            "Epoch 63/300\n",
            "140/140 [==============================] - 1s 4ms/step - loss: 0.0361 - val_loss: 0.0288\n",
            "Epoch 64/300\n",
            "140/140 [==============================] - 0s 4ms/step - loss: 0.0335 - val_loss: 0.0297\n",
            "Epoch 65/300\n",
            "140/140 [==============================] - 1s 4ms/step - loss: 0.0341 - val_loss: 0.0286\n",
            "Epoch 66/300\n",
            "140/140 [==============================] - 1s 4ms/step - loss: 0.0329 - val_loss: 0.0277\n",
            "Epoch 67/300\n",
            "140/140 [==============================] - 1s 4ms/step - loss: 0.0315 - val_loss: 0.0283\n",
            "Epoch 68/300\n",
            "140/140 [==============================] - 1s 4ms/step - loss: 0.0310 - val_loss: 0.0277\n",
            "Epoch 69/300\n",
            "140/140 [==============================] - 1s 4ms/step - loss: 0.0301 - val_loss: 0.0292\n",
            "Epoch 70/300\n",
            "140/140 [==============================] - 1s 4ms/step - loss: 0.0298 - val_loss: 0.0299\n",
            "Epoch 71/300\n",
            "140/140 [==============================] - 1s 4ms/step - loss: 0.0305 - val_loss: 0.0274\n",
            "Epoch 72/300\n",
            "140/140 [==============================] - 1s 4ms/step - loss: 0.0290 - val_loss: 0.0290\n",
            "Epoch 73/300\n",
            "140/140 [==============================] - 1s 4ms/step - loss: 0.0286 - val_loss: 0.0281\n",
            "Epoch 74/300\n",
            "140/140 [==============================] - 1s 4ms/step - loss: 0.0282 - val_loss: 0.0277\n",
            "Epoch 75/300\n",
            "140/140 [==============================] - 1s 4ms/step - loss: 0.0273 - val_loss: 0.0285\n",
            "Epoch 76/300\n",
            "140/140 [==============================] - 1s 4ms/step - loss: 0.0280 - val_loss: 0.0292\n",
            "Epoch 77/300\n",
            "140/140 [==============================] - 1s 4ms/step - loss: 0.0282 - val_loss: 0.0261\n",
            "Epoch 78/300\n",
            "140/140 [==============================] - 1s 4ms/step - loss: 0.0265 - val_loss: 0.0275\n",
            "Epoch 79/300\n",
            "140/140 [==============================] - 0s 4ms/step - loss: 0.0252 - val_loss: 0.0297\n",
            "Epoch 80/300\n",
            "140/140 [==============================] - 1s 4ms/step - loss: 0.0275 - val_loss: 0.0294\n",
            "Epoch 81/300\n",
            "140/140 [==============================] - 0s 4ms/step - loss: 0.0260 - val_loss: 0.0296\n",
            "Epoch 82/300\n",
            "140/140 [==============================] - 1s 4ms/step - loss: 0.0271 - val_loss: 0.0267\n",
            "Epoch 83/300\n",
            "140/140 [==============================] - 1s 4ms/step - loss: 0.0255 - val_loss: 0.0273\n",
            "Epoch 84/300\n",
            "140/140 [==============================] - 1s 4ms/step - loss: 0.0250 - val_loss: 0.0273\n",
            "Epoch 85/300\n",
            "140/140 [==============================] - 0s 4ms/step - loss: 0.0249 - val_loss: 0.0296\n",
            "Epoch 86/300\n",
            "140/140 [==============================] - 1s 4ms/step - loss: 0.0249 - val_loss: 0.0272\n",
            "Epoch 87/300\n",
            "140/140 [==============================] - 1s 4ms/step - loss: 0.0252 - val_loss: 0.0290\n",
            "Epoch 88/300\n",
            "140/140 [==============================] - 1s 4ms/step - loss: 0.0254 - val_loss: 0.0272\n",
            "Epoch 89/300\n",
            "140/140 [==============================] - 0s 4ms/step - loss: 0.0245 - val_loss: 0.0285\n",
            "Epoch 90/300\n",
            "140/140 [==============================] - 1s 4ms/step - loss: 0.0239 - val_loss: 0.0277\n",
            "Epoch 91/300\n",
            "140/140 [==============================] - 1s 4ms/step - loss: 0.0240 - val_loss: 0.0289\n",
            "Epoch 92/300\n",
            "140/140 [==============================] - 1s 4ms/step - loss: 0.0243 - val_loss: 0.0262\n",
            "Epoch 93/300\n",
            "140/140 [==============================] - 1s 4ms/step - loss: 0.0232 - val_loss: 0.0266\n",
            "Epoch 94/300\n",
            "140/140 [==============================] - 0s 4ms/step - loss: 0.0217 - val_loss: 0.0273\n",
            "Epoch 95/300\n",
            "140/140 [==============================] - 1s 4ms/step - loss: 0.0228 - val_loss: 0.0286\n",
            "Epoch 96/300\n",
            "140/140 [==============================] - 1s 4ms/step - loss: 0.0223 - val_loss: 0.0298\n",
            "Epoch 97/300\n",
            "140/140 [==============================] - 1s 4ms/step - loss: 0.0227 - val_loss: 0.0282\n",
            "Epoch 98/300\n",
            "140/140 [==============================] - 1s 4ms/step - loss: 0.0219 - val_loss: 0.0265\n",
            "Epoch 99/300\n",
            "140/140 [==============================] - 1s 4ms/step - loss: 0.0215 - val_loss: 0.0273\n",
            "Epoch 100/300\n",
            "140/140 [==============================] - 1s 4ms/step - loss: 0.0209 - val_loss: 0.0273\n",
            "Epoch 101/300\n",
            "140/140 [==============================] - 1s 4ms/step - loss: 0.0209 - val_loss: 0.0281\n",
            "Epoch 102/300\n",
            "140/140 [==============================] - 1s 4ms/step - loss: 0.0209 - val_loss: 0.0278\n",
            "Epoch 103/300\n",
            "140/140 [==============================] - 1s 4ms/step - loss: 0.0210 - val_loss: 0.0285\n",
            "Epoch 104/300\n",
            "140/140 [==============================] - 1s 4ms/step - loss: 0.0215 - val_loss: 0.0275\n",
            "Epoch 105/300\n",
            "140/140 [==============================] - 1s 4ms/step - loss: 0.0205 - val_loss: 0.0278\n",
            "Epoch 106/300\n",
            "140/140 [==============================] - 1s 4ms/step - loss: 0.0203 - val_loss: 0.0279\n",
            "Epoch 107/300\n",
            "140/140 [==============================] - 1s 4ms/step - loss: 0.0209 - val_loss: 0.0276\n",
            "Epoch 108/300\n",
            "140/140 [==============================] - 1s 4ms/step - loss: 0.0196 - val_loss: 0.0265\n",
            "Epoch 109/300\n",
            "140/140 [==============================] - 1s 4ms/step - loss: 0.0200 - val_loss: 0.0284\n",
            "Epoch 110/300\n",
            "140/140 [==============================] - 1s 4ms/step - loss: 0.0209 - val_loss: 0.0286\n",
            "Epoch 111/300\n",
            "140/140 [==============================] - 1s 4ms/step - loss: 0.0203 - val_loss: 0.0271\n",
            "Epoch 112/300\n",
            "140/140 [==============================] - 1s 4ms/step - loss: 0.0201 - val_loss: 0.0284\n",
            "Epoch 113/300\n",
            "140/140 [==============================] - 1s 4ms/step - loss: 0.0195 - val_loss: 0.0282\n",
            "Epoch 114/300\n",
            "140/140 [==============================] - 1s 4ms/step - loss: 0.0205 - val_loss: 0.0285\n",
            "Epoch 115/300\n",
            "140/140 [==============================] - 1s 4ms/step - loss: 0.0208 - val_loss: 0.0258\n",
            "Epoch 116/300\n",
            "140/140 [==============================] - 1s 4ms/step - loss: 0.0192 - val_loss: 0.0262\n",
            "Epoch 117/300\n",
            "140/140 [==============================] - 1s 4ms/step - loss: 0.0187 - val_loss: 0.0259\n",
            "Epoch 118/300\n",
            "140/140 [==============================] - 1s 4ms/step - loss: 0.0190 - val_loss: 0.0293\n",
            "Epoch 119/300\n",
            "140/140 [==============================] - 1s 4ms/step - loss: 0.0196 - val_loss: 0.0281\n",
            "Epoch 120/300\n",
            "140/140 [==============================] - 1s 4ms/step - loss: 0.0199 - val_loss: 0.0266\n",
            "Epoch 121/300\n",
            "140/140 [==============================] - 1s 4ms/step - loss: 0.0192 - val_loss: 0.0284\n",
            "Epoch 122/300\n",
            "140/140 [==============================] - 1s 4ms/step - loss: 0.0194 - val_loss: 0.0264\n",
            "Epoch 123/300\n",
            "140/140 [==============================] - 1s 4ms/step - loss: 0.0191 - val_loss: 0.0260\n",
            "Epoch 124/300\n",
            "140/140 [==============================] - 1s 4ms/step - loss: 0.0187 - val_loss: 0.0242\n",
            "Epoch 125/300\n",
            "140/140 [==============================] - 1s 4ms/step - loss: 0.0183 - val_loss: 0.0252\n",
            "Epoch 126/300\n",
            "140/140 [==============================] - 1s 4ms/step - loss: 0.0187 - val_loss: 0.0275\n",
            "Epoch 127/300\n",
            "140/140 [==============================] - 1s 4ms/step - loss: 0.0194 - val_loss: 0.0269\n",
            "Epoch 128/300\n",
            "140/140 [==============================] - 1s 4ms/step - loss: 0.0182 - val_loss: 0.0266\n",
            "Epoch 129/300\n",
            "140/140 [==============================] - 1s 4ms/step - loss: 0.0187 - val_loss: 0.0285\n",
            "Epoch 130/300\n",
            "140/140 [==============================] - 1s 4ms/step - loss: 0.0193 - val_loss: 0.0271\n",
            "Epoch 131/300\n",
            "140/140 [==============================] - 0s 4ms/step - loss: 0.0190 - val_loss: 0.0267\n",
            "Epoch 132/300\n",
            "140/140 [==============================] - 1s 4ms/step - loss: 0.0190 - val_loss: 0.0257\n",
            "Epoch 133/300\n",
            "140/140 [==============================] - 1s 4ms/step - loss: 0.0189 - val_loss: 0.0260\n",
            "Epoch 134/300\n",
            "140/140 [==============================] - 1s 4ms/step - loss: 0.0183 - val_loss: 0.0260\n",
            "Epoch 135/300\n",
            "140/140 [==============================] - 1s 4ms/step - loss: 0.0179 - val_loss: 0.0266\n",
            "Epoch 136/300\n",
            "140/140 [==============================] - 1s 4ms/step - loss: 0.0187 - val_loss: 0.0279\n",
            "Epoch 137/300\n",
            "140/140 [==============================] - 1s 4ms/step - loss: 0.0185 - val_loss: 0.0273\n",
            "Epoch 138/300\n",
            "140/140 [==============================] - 1s 4ms/step - loss: 0.0190 - val_loss: 0.0285\n",
            "Epoch 139/300\n",
            "140/140 [==============================] - 1s 4ms/step - loss: 0.0188 - val_loss: 0.0273\n",
            "Epoch 140/300\n",
            "140/140 [==============================] - 0s 4ms/step - loss: 0.0183 - val_loss: 0.0278\n",
            "Epoch 141/300\n",
            "140/140 [==============================] - 1s 4ms/step - loss: 0.0186 - val_loss: 0.0264\n",
            "Epoch 142/300\n",
            "140/140 [==============================] - 1s 4ms/step - loss: 0.0191 - val_loss: 0.0276\n",
            "Epoch 143/300\n",
            "140/140 [==============================] - 1s 4ms/step - loss: 0.0181 - val_loss: 0.0275\n",
            "Epoch 144/300\n",
            "140/140 [==============================] - 1s 4ms/step - loss: 0.0182 - val_loss: 0.0282\n",
            "Epoch 145/300\n",
            "140/140 [==============================] - 1s 4ms/step - loss: 0.0186 - val_loss: 0.0284\n",
            "Epoch 146/300\n",
            "140/140 [==============================] - 1s 4ms/step - loss: 0.0191 - val_loss: 0.0287\n",
            "Epoch 147/300\n",
            "140/140 [==============================] - 1s 4ms/step - loss: 0.0194 - val_loss: 0.0266\n",
            "Epoch 148/300\n",
            "140/140 [==============================] - 1s 4ms/step - loss: 0.0183 - val_loss: 0.0268\n",
            "Epoch 149/300\n",
            "140/140 [==============================] - 1s 4ms/step - loss: 0.0182 - val_loss: 0.0253\n",
            "Epoch 150/300\n",
            "140/140 [==============================] - 1s 4ms/step - loss: 0.0180 - val_loss: 0.0263\n",
            "Epoch 151/300\n",
            "140/140 [==============================] - 1s 4ms/step - loss: 0.0182 - val_loss: 0.0265\n",
            "Epoch 152/300\n",
            "140/140 [==============================] - 1s 4ms/step - loss: 0.0176 - val_loss: 0.0273\n",
            "Epoch 153/300\n",
            "140/140 [==============================] - 1s 4ms/step - loss: 0.0181 - val_loss: 0.0276\n",
            "Epoch 154/300\n",
            "140/140 [==============================] - 1s 4ms/step - loss: 0.0181 - val_loss: 0.0264\n",
            "Epoch 155/300\n",
            "140/140 [==============================] - 1s 4ms/step - loss: 0.0180 - val_loss: 0.0254\n",
            "Epoch 156/300\n",
            "140/140 [==============================] - 1s 4ms/step - loss: 0.0181 - val_loss: 0.0261\n",
            "Epoch 157/300\n",
            "140/140 [==============================] - 1s 4ms/step - loss: 0.0176 - val_loss: 0.0289\n",
            "Epoch 158/300\n",
            "140/140 [==============================] - 1s 4ms/step - loss: 0.0176 - val_loss: 0.0285\n",
            "Epoch 159/300\n",
            "140/140 [==============================] - 1s 4ms/step - loss: 0.0179 - val_loss: 0.0279\n",
            "Epoch 160/300\n",
            "140/140 [==============================] - 1s 4ms/step - loss: 0.0190 - val_loss: 0.0271\n",
            "Epoch 161/300\n",
            "140/140 [==============================] - 1s 4ms/step - loss: 0.0177 - val_loss: 0.0268\n",
            "Epoch 162/300\n",
            "140/140 [==============================] - 1s 4ms/step - loss: 0.0173 - val_loss: 0.0249\n",
            "Epoch 163/300\n",
            "140/140 [==============================] - 1s 4ms/step - loss: 0.0186 - val_loss: 0.0274\n",
            "Epoch 164/300\n",
            "140/140 [==============================] - 1s 4ms/step - loss: 0.0171 - val_loss: 0.0257\n",
            "Epoch 165/300\n",
            "140/140 [==============================] - 1s 4ms/step - loss: 0.0178 - val_loss: 0.0261\n",
            "Epoch 166/300\n",
            "140/140 [==============================] - 1s 4ms/step - loss: 0.0177 - val_loss: 0.0282\n",
            "Epoch 167/300\n",
            "140/140 [==============================] - 1s 4ms/step - loss: 0.0184 - val_loss: 0.0262\n",
            "Epoch 168/300\n",
            "140/140 [==============================] - 1s 4ms/step - loss: 0.0180 - val_loss: 0.0272\n",
            "Epoch 169/300\n",
            "140/140 [==============================] - 1s 4ms/step - loss: 0.0179 - val_loss: 0.0252\n",
            "Epoch 170/300\n",
            "140/140 [==============================] - 1s 4ms/step - loss: 0.0178 - val_loss: 0.0265\n",
            "Epoch 171/300\n",
            "140/140 [==============================] - 1s 4ms/step - loss: 0.0178 - val_loss: 0.0255\n",
            "Epoch 172/300\n",
            "140/140 [==============================] - 1s 4ms/step - loss: 0.0176 - val_loss: 0.0248\n",
            "Epoch 173/300\n",
            "140/140 [==============================] - 0s 4ms/step - loss: 0.0175 - val_loss: 0.0285\n",
            "Epoch 174/300\n",
            "140/140 [==============================] - 1s 4ms/step - loss: 0.0179 - val_loss: 0.0272\n",
            "Epoch 175/300\n",
            "140/140 [==============================] - 1s 4ms/step - loss: 0.0179 - val_loss: 0.0270\n",
            "Epoch 176/300\n",
            "140/140 [==============================] - 1s 4ms/step - loss: 0.0176 - val_loss: 0.0247\n",
            "Epoch 177/300\n",
            "140/140 [==============================] - 1s 4ms/step - loss: 0.0178 - val_loss: 0.0251\n",
            "Epoch 178/300\n",
            "140/140 [==============================] - 1s 4ms/step - loss: 0.0177 - val_loss: 0.0255\n",
            "Epoch 179/300\n",
            "140/140 [==============================] - 1s 4ms/step - loss: 0.0181 - val_loss: 0.0263\n",
            "Epoch 180/300\n",
            "140/140 [==============================] - 1s 4ms/step - loss: 0.0182 - val_loss: 0.0234\n",
            "Epoch 181/300\n",
            "140/140 [==============================] - 1s 4ms/step - loss: 0.0178 - val_loss: 0.0232\n",
            "Epoch 182/300\n",
            "140/140 [==============================] - 1s 4ms/step - loss: 0.0166 - val_loss: 0.0224\n",
            "Epoch 183/300\n",
            "140/140 [==============================] - 1s 4ms/step - loss: 0.0166 - val_loss: 0.0245\n",
            "Epoch 184/300\n",
            "140/140 [==============================] - 1s 4ms/step - loss: 0.0174 - val_loss: 0.0257\n",
            "Epoch 185/300\n",
            "140/140 [==============================] - 1s 4ms/step - loss: 0.0172 - val_loss: 0.0278\n",
            "Epoch 186/300\n",
            "140/140 [==============================] - 1s 4ms/step - loss: 0.0170 - val_loss: 0.0271\n",
            "Epoch 187/300\n",
            "140/140 [==============================] - 1s 4ms/step - loss: 0.0182 - val_loss: 0.0260\n",
            "Epoch 188/300\n",
            "140/140 [==============================] - 1s 4ms/step - loss: 0.0177 - val_loss: 0.0268\n",
            "Epoch 189/300\n",
            "140/140 [==============================] - 1s 4ms/step - loss: 0.0180 - val_loss: 0.0249\n",
            "Epoch 190/300\n",
            "140/140 [==============================] - 0s 4ms/step - loss: 0.0177 - val_loss: 0.0248\n",
            "Epoch 191/300\n",
            "140/140 [==============================] - 1s 4ms/step - loss: 0.0178 - val_loss: 0.0242\n",
            "Epoch 192/300\n",
            "140/140 [==============================] - 1s 4ms/step - loss: 0.0176 - val_loss: 0.0250\n",
            "Epoch 193/300\n",
            "140/140 [==============================] - 1s 4ms/step - loss: 0.0175 - val_loss: 0.0247\n",
            "Epoch 194/300\n",
            "140/140 [==============================] - 1s 4ms/step - loss: 0.0178 - val_loss: 0.0259\n",
            "Epoch 195/300\n",
            "140/140 [==============================] - 1s 4ms/step - loss: 0.0181 - val_loss: 0.0238\n",
            "Epoch 196/300\n",
            "140/140 [==============================] - 1s 4ms/step - loss: 0.0168 - val_loss: 0.0254\n",
            "Epoch 197/300\n",
            "140/140 [==============================] - 1s 4ms/step - loss: 0.0175 - val_loss: 0.0240\n",
            "Epoch 198/300\n",
            "140/140 [==============================] - 1s 4ms/step - loss: 0.0173 - val_loss: 0.0266\n",
            "Epoch 199/300\n",
            "140/140 [==============================] - 1s 4ms/step - loss: 0.0176 - val_loss: 0.0258\n",
            "Epoch 200/300\n",
            "140/140 [==============================] - 1s 4ms/step - loss: 0.0181 - val_loss: 0.0235\n",
            "Epoch 201/300\n",
            "140/140 [==============================] - 1s 4ms/step - loss: 0.0173 - val_loss: 0.0235\n",
            "Epoch 202/300\n",
            "140/140 [==============================] - 1s 4ms/step - loss: 0.0167 - val_loss: 0.0243\n",
            "Epoch 203/300\n",
            "140/140 [==============================] - 1s 4ms/step - loss: 0.0168 - val_loss: 0.0243\n",
            "Epoch 204/300\n",
            "140/140 [==============================] - 1s 4ms/step - loss: 0.0171 - val_loss: 0.0251\n",
            "Epoch 205/300\n",
            "140/140 [==============================] - 1s 4ms/step - loss: 0.0174 - val_loss: 0.0251\n",
            "Epoch 206/300\n",
            "140/140 [==============================] - 1s 4ms/step - loss: 0.0180 - val_loss: 0.0241\n",
            "Epoch 207/300\n",
            "140/140 [==============================] - 1s 4ms/step - loss: 0.0169 - val_loss: 0.0249\n",
            "Epoch 208/300\n",
            "140/140 [==============================] - 0s 4ms/step - loss: 0.0177 - val_loss: 0.0239\n",
            "Epoch 209/300\n",
            "140/140 [==============================] - 1s 4ms/step - loss: 0.0175 - val_loss: 0.0231\n",
            "Epoch 210/300\n",
            "140/140 [==============================] - 1s 4ms/step - loss: 0.0162 - val_loss: 0.0228\n",
            "Epoch 211/300\n",
            "140/140 [==============================] - 0s 3ms/step - loss: 0.0169 - val_loss: 0.0227\n",
            "Epoch 212/300\n",
            "140/140 [==============================] - 1s 4ms/step - loss: 0.0169 - val_loss: 0.0245\n",
            "Epoch 213/300\n",
            "140/140 [==============================] - 0s 4ms/step - loss: 0.0171 - val_loss: 0.0232\n",
            "Epoch 214/300\n",
            "140/140 [==============================] - 1s 4ms/step - loss: 0.0169 - val_loss: 0.0234\n",
            "Epoch 215/300\n",
            "140/140 [==============================] - 1s 4ms/step - loss: 0.0169 - val_loss: 0.0232\n",
            "Epoch 216/300\n",
            "140/140 [==============================] - 1s 4ms/step - loss: 0.0168 - val_loss: 0.0239\n",
            "Epoch 217/300\n",
            "140/140 [==============================] - 1s 4ms/step - loss: 0.0168 - val_loss: 0.0244\n",
            "Epoch 218/300\n",
            "140/140 [==============================] - 1s 4ms/step - loss: 0.0179 - val_loss: 0.0247\n",
            "Epoch 219/300\n",
            "140/140 [==============================] - 0s 4ms/step - loss: 0.0174 - val_loss: 0.0246\n",
            "Epoch 220/300\n",
            "140/140 [==============================] - 1s 4ms/step - loss: 0.0169 - val_loss: 0.0236\n",
            "Epoch 221/300\n",
            "140/140 [==============================] - 1s 4ms/step - loss: 0.0168 - val_loss: 0.0238\n",
            "Epoch 222/300\n",
            "140/140 [==============================] - 1s 4ms/step - loss: 0.0175 - val_loss: 0.0227\n",
            "Epoch 223/300\n",
            "140/140 [==============================] - 1s 4ms/step - loss: 0.0165 - val_loss: 0.0239\n",
            "Epoch 224/300\n",
            "140/140 [==============================] - 1s 4ms/step - loss: 0.0175 - val_loss: 0.0244\n",
            "Epoch 225/300\n",
            "140/140 [==============================] - 1s 4ms/step - loss: 0.0166 - val_loss: 0.0245\n",
            "Epoch 226/300\n",
            "140/140 [==============================] - 1s 4ms/step - loss: 0.0167 - val_loss: 0.0234\n",
            "Epoch 227/300\n",
            "140/140 [==============================] - 1s 4ms/step - loss: 0.0172 - val_loss: 0.0250\n",
            "Epoch 228/300\n",
            "140/140 [==============================] - 1s 4ms/step - loss: 0.0171 - val_loss: 0.0255\n",
            "Epoch 229/300\n",
            "140/140 [==============================] - 0s 4ms/step - loss: 0.0172 - val_loss: 0.0234\n",
            "Epoch 230/300\n",
            "140/140 [==============================] - 1s 4ms/step - loss: 0.0167 - val_loss: 0.0248\n",
            "Epoch 231/300\n",
            "140/140 [==============================] - 0s 4ms/step - loss: 0.0178 - val_loss: 0.0251\n",
            "Epoch 232/300\n",
            "140/140 [==============================] - 1s 4ms/step - loss: 0.0178 - val_loss: 0.0231\n",
            "Epoch 233/300\n",
            "140/140 [==============================] - 0s 4ms/step - loss: 0.0175 - val_loss: 0.0228\n",
            "Epoch 234/300\n",
            "140/140 [==============================] - 1s 4ms/step - loss: 0.0166 - val_loss: 0.0218\n",
            "Epoch 235/300\n",
            "140/140 [==============================] - 1s 4ms/step - loss: 0.0172 - val_loss: 0.0231\n",
            "Epoch 236/300\n",
            "140/140 [==============================] - 1s 4ms/step - loss: 0.0168 - val_loss: 0.0205\n",
            "Epoch 237/300\n",
            "140/140 [==============================] - 1s 4ms/step - loss: 0.0170 - val_loss: 0.0240\n",
            "Epoch 238/300\n",
            "140/140 [==============================] - 1s 4ms/step - loss: 0.0166 - val_loss: 0.0230\n",
            "Epoch 239/300\n",
            "140/140 [==============================] - 1s 4ms/step - loss: 0.0166 - val_loss: 0.0218\n",
            "Epoch 240/300\n",
            "140/140 [==============================] - 1s 4ms/step - loss: 0.0168 - val_loss: 0.0218\n",
            "Epoch 241/300\n",
            "140/140 [==============================] - 1s 4ms/step - loss: 0.0164 - val_loss: 0.0220\n",
            "Epoch 242/300\n",
            "140/140 [==============================] - 1s 4ms/step - loss: 0.0163 - val_loss: 0.0226\n",
            "Epoch 243/300\n",
            "140/140 [==============================] - 1s 4ms/step - loss: 0.0168 - val_loss: 0.0223\n",
            "Epoch 244/300\n",
            "140/140 [==============================] - 1s 4ms/step - loss: 0.0166 - val_loss: 0.0219\n",
            "Epoch 245/300\n",
            "140/140 [==============================] - 1s 4ms/step - loss: 0.0169 - val_loss: 0.0212\n",
            "Epoch 246/300\n",
            "140/140 [==============================] - 1s 4ms/step - loss: 0.0168 - val_loss: 0.0206\n",
            "Epoch 247/300\n",
            "140/140 [==============================] - 1s 4ms/step - loss: 0.0159 - val_loss: 0.0230\n",
            "Epoch 248/300\n",
            "140/140 [==============================] - 1s 4ms/step - loss: 0.0164 - val_loss: 0.0245\n",
            "Epoch 249/300\n",
            "140/140 [==============================] - 1s 4ms/step - loss: 0.0164 - val_loss: 0.0233\n",
            "Epoch 250/300\n",
            "140/140 [==============================] - 1s 4ms/step - loss: 0.0168 - val_loss: 0.0231\n",
            "Epoch 251/300\n",
            "140/140 [==============================] - 1s 4ms/step - loss: 0.0166 - val_loss: 0.0237\n",
            "Epoch 252/300\n",
            "140/140 [==============================] - 1s 4ms/step - loss: 0.0168 - val_loss: 0.0238\n",
            "Epoch 253/300\n",
            "140/140 [==============================] - 1s 4ms/step - loss: 0.0170 - val_loss: 0.0230\n",
            "Epoch 254/300\n",
            "140/140 [==============================] - 1s 4ms/step - loss: 0.0164 - val_loss: 0.0227\n",
            "Epoch 255/300\n",
            "140/140 [==============================] - 1s 4ms/step - loss: 0.0169 - val_loss: 0.0229\n",
            "Epoch 256/300\n",
            "140/140 [==============================] - 1s 4ms/step - loss: 0.0161 - val_loss: 0.0231\n",
            "Epoch 257/300\n",
            "140/140 [==============================] - 1s 4ms/step - loss: 0.0167 - val_loss: 0.0214\n",
            "Epoch 258/300\n",
            "140/140 [==============================] - 1s 4ms/step - loss: 0.0163 - val_loss: 0.0215\n",
            "Epoch 259/300\n",
            "140/140 [==============================] - 1s 4ms/step - loss: 0.0167 - val_loss: 0.0227\n",
            "Epoch 260/300\n",
            "140/140 [==============================] - 1s 4ms/step - loss: 0.0167 - val_loss: 0.0209\n",
            "Epoch 261/300\n",
            "140/140 [==============================] - 1s 4ms/step - loss: 0.0161 - val_loss: 0.0212\n",
            "Epoch 262/300\n",
            "140/140 [==============================] - 1s 4ms/step - loss: 0.0162 - val_loss: 0.0203\n",
            "Epoch 263/300\n",
            "140/140 [==============================] - 1s 4ms/step - loss: 0.0153 - val_loss: 0.0221\n",
            "Epoch 264/300\n",
            "140/140 [==============================] - 1s 4ms/step - loss: 0.0158 - val_loss: 0.0225\n",
            "Epoch 265/300\n",
            "140/140 [==============================] - 1s 4ms/step - loss: 0.0160 - val_loss: 0.0225\n",
            "Epoch 266/300\n",
            "140/140 [==============================] - 1s 4ms/step - loss: 0.0165 - val_loss: 0.0226\n",
            "Epoch 267/300\n",
            "140/140 [==============================] - 1s 4ms/step - loss: 0.0154 - val_loss: 0.0211\n",
            "Epoch 268/300\n",
            "140/140 [==============================] - 1s 4ms/step - loss: 0.0161 - val_loss: 0.0223\n",
            "Epoch 269/300\n",
            "140/140 [==============================] - 1s 4ms/step - loss: 0.0153 - val_loss: 0.0203\n",
            "Epoch 270/300\n",
            "140/140 [==============================] - 1s 4ms/step - loss: 0.0154 - val_loss: 0.0194\n",
            "Epoch 271/300\n",
            "140/140 [==============================] - 1s 4ms/step - loss: 0.0148 - val_loss: 0.0196\n",
            "Epoch 272/300\n",
            "140/140 [==============================] - 1s 4ms/step - loss: 0.0149 - val_loss: 0.0194\n",
            "Epoch 273/300\n",
            "140/140 [==============================] - 1s 4ms/step - loss: 0.0156 - val_loss: 0.0200\n",
            "Epoch 274/300\n",
            "140/140 [==============================] - 1s 4ms/step - loss: 0.0150 - val_loss: 0.0191\n",
            "Epoch 275/300\n",
            "140/140 [==============================] - 0s 3ms/step - loss: 0.0148 - val_loss: 0.0197\n",
            "Epoch 276/300\n",
            "140/140 [==============================] - 1s 4ms/step - loss: 0.0151 - val_loss: 0.0174\n",
            "Epoch 277/300\n",
            "140/140 [==============================] - 1s 4ms/step - loss: 0.0145 - val_loss: 0.0171\n",
            "Epoch 278/300\n",
            "140/140 [==============================] - 1s 4ms/step - loss: 0.0145 - val_loss: 0.0189\n",
            "Epoch 279/300\n",
            "140/140 [==============================] - 1s 4ms/step - loss: 0.0148 - val_loss: 0.0187\n",
            "Epoch 280/300\n",
            "140/140 [==============================] - 1s 4ms/step - loss: 0.0146 - val_loss: 0.0195\n",
            "Epoch 281/300\n",
            "140/140 [==============================] - 1s 4ms/step - loss: 0.0146 - val_loss: 0.0171\n",
            "Epoch 282/300\n",
            "140/140 [==============================] - 1s 4ms/step - loss: 0.0142 - val_loss: 0.0158\n",
            "Epoch 283/300\n",
            "140/140 [==============================] - 1s 4ms/step - loss: 0.0134 - val_loss: 0.0170\n",
            "Epoch 284/300\n",
            "140/140 [==============================] - 1s 4ms/step - loss: 0.0145 - val_loss: 0.0184\n",
            "Epoch 285/300\n",
            "140/140 [==============================] - 1s 4ms/step - loss: 0.0142 - val_loss: 0.0200\n",
            "Epoch 286/300\n",
            "140/140 [==============================] - 1s 4ms/step - loss: 0.0146 - val_loss: 0.0209\n",
            "Epoch 287/300\n",
            "140/140 [==============================] - 1s 4ms/step - loss: 0.0146 - val_loss: 0.0183\n",
            "Epoch 288/300\n",
            "140/140 [==============================] - 0s 4ms/step - loss: 0.0144 - val_loss: 0.0186\n",
            "Epoch 289/300\n",
            "140/140 [==============================] - 1s 4ms/step - loss: 0.0140 - val_loss: 0.0174\n",
            "Epoch 290/300\n",
            "140/140 [==============================] - 1s 4ms/step - loss: 0.0137 - val_loss: 0.0187\n",
            "Epoch 291/300\n",
            "140/140 [==============================] - 1s 4ms/step - loss: 0.0151 - val_loss: 0.0176\n",
            "Epoch 292/300\n",
            "140/140 [==============================] - 1s 4ms/step - loss: 0.0137 - val_loss: 0.0157\n",
            "Epoch 293/300\n",
            "140/140 [==============================] - 1s 4ms/step - loss: 0.0135 - val_loss: 0.0186\n",
            "Epoch 294/300\n",
            "140/140 [==============================] - 1s 4ms/step - loss: 0.0137 - val_loss: 0.0191\n",
            "Epoch 295/300\n",
            "140/140 [==============================] - 1s 4ms/step - loss: 0.0137 - val_loss: 0.0216\n",
            "Epoch 296/300\n",
            "140/140 [==============================] - 1s 4ms/step - loss: 0.0139 - val_loss: 0.0220\n",
            "Epoch 297/300\n",
            "140/140 [==============================] - 1s 4ms/step - loss: 0.0146 - val_loss: 0.0235\n",
            "Epoch 298/300\n",
            "140/140 [==============================] - 1s 4ms/step - loss: 0.0140 - val_loss: 0.0217\n",
            "Epoch 299/300\n",
            "140/140 [==============================] - 1s 4ms/step - loss: 0.0144 - val_loss: 0.0229\n",
            "Epoch 300/300\n",
            "140/140 [==============================] - 1s 4ms/step - loss: 0.0147 - val_loss: 0.0255\n"
          ],
          "name": "stdout"
        }
      ]
    },
    {
      "cell_type": "code",
      "metadata": {
        "id": "skmJ-2q4V1jr",
        "colab_type": "code",
        "colab": {
          "base_uri": "https://localhost:8080/",
          "height": 266
        },
        "outputId": "ea4969f8-cb32-4c2d-f2d0-8056299a0ea9"
      },
      "source": [
        "plt.plot(history_lstm.history['loss'], label='train')\n",
        "plt.plot(history_lstm.history['val_loss'], label = 'test')\n",
        "plt.legend()\n",
        "plt.show()  "
      ],
      "execution_count": 17,
      "outputs": [
        {
          "output_type": "display_data",
          "data": {
            "image/png": "[encoded data removed]",
            "text/plain": [
              "<Figure size 432x288 with 1 Axes>"
            ]
          },
          "metadata": {
            "tags": [],
            "image/png": {
              "width": 385,
              "height": 249
            },
            "needs_background": "light"
          }
        }
      ]
    },
    {
      "cell_type": "code",
      "metadata": {
        "id": "erOUUOc6gHeZ",
        "colab_type": "code",
        "colab": {
          "base_uri": "https://localhost:8080/",
          "height": 34
        },
        "outputId": "45e393c9-193e-4e6a-bff8-045297460a0c"
      },
      "source": [
        "print(X_train.shape, y_train.shape)"
      ],
      "execution_count": 18,
      "outputs": [
        {
          "output_type": "stream",
          "text": [
            "(4458, 3, 1) (4458,)\n"
          ],
          "name": "stdout"
        }
      ]
    },
    {
      "cell_type": "code",
      "metadata": {
        "id": "QHH2EqjHVVIL",
        "colab_type": "code",
        "colab": {}
      },
      "source": [
        "#Predict the price\n",
        "y_pred = model.predict(X_test)"
      ],
      "execution_count": 19,
      "outputs": []
    },
    {
      "cell_type": "code",
      "metadata": {
        "id": "_w-D5l9PkdaL",
        "colab_type": "code",
        "colab": {}
      },
      "source": [
        "# Rescale the data back to the original scale\n",
        "y_test = y_test*(train_max[0] - train_min[0]) + train_min[0]\n",
        "y_pred = y_pred*(train_max[0] - train_min[0]) + train_min[0]\n",
        "y_train = y_train*(train_max[0] - train_min[0]) + train_min[0]"
      ],
      "execution_count": 20,
      "outputs": []
    },
    {
      "cell_type": "code",
      "metadata": {
        "id": "4ZRsZi54kyNh",
        "colab_type": "code",
        "colab": {
          "base_uri": "https://localhost:8080/",
          "height": 50
        },
        "outputId": "8b3e8833-bf49-4e8f-cb72-ba4f7ecbe5f5"
      },
      "source": [
        "print('Mean absolute error (MAE):   %f' % mean_absolute_error(y_test, y_pred))\n",
        "print('Mean square error (MSE):   %f' % sqrt(mean_squared_error(y_test, y_pred)))"
      ],
      "execution_count": 21,
      "outputs": [
        {
          "output_type": "stream",
          "text": [
            "Mean absolute error (MAE):   41.622804\n",
            "Mean square error (MSE):   55.902677\n"
          ],
          "name": "stdout"
        }
      ]
    },
    {
      "cell_type": "code",
      "metadata": {
        "id": "d7AdZgtSWolH",
        "colab_type": "code",
        "colab": {
          "base_uri": "https://localhost:8080/",
          "height": 265
        },
        "outputId": "0c102bc8-69d9-4d62-b56d-70e007bcbec0"
      },
      "source": [
        "plt.plot(y_test, label = 'Actual')\n",
        "plt.plot(y_pred, label = 'Predicted')\n",
        "plt.legend()\n",
        "plt.show()"
      ],
      "execution_count": 22,
      "outputs": [
        {
          "output_type": "display_data",
          "data": {
            "image/png": "[encoded data removed]",
            "text/plain": [
              "<Figure size 432x288 with 1 Axes>"
            ]
          },
          "metadata": {
            "tags": [],
            "image/png": {
              "width": 381,
              "height": 248
            },
            "needs_background": "light"
          }
        }
      ]
    },
    {
      "cell_type": "code",
      "metadata": {
        "id": "J_AgsfH8YVuh",
        "colab_type": "code",
        "colab": {}
      },
      "source": [
        ""
      ],
      "execution_count": null,
      "outputs": []
    }
  ]
}